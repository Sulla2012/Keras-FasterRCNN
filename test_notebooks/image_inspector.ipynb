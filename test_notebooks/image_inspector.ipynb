{
 "cells": [
  {
   "cell_type": "code",
   "execution_count": 9,
   "id": "48868e10",
   "metadata": {},
   "outputs": [
    {
     "name": "stdout",
     "output_type": "stream",
     "text": [
      "The autoreload extension is already loaded. To reload it, use:\n",
      "  %reload_ext autoreload\n"
     ]
    }
   ],
   "source": [
    "# -*- coding: utf-8 -*-\n",
    "from __future__ import division\n",
    "import random\n",
    "import pprint\n",
    "import sys\n",
    "import time\n",
    "import numpy as np\n",
    "from optparse import OptionParser\n",
    "import pickle\n",
    "import os\n",
    "\n",
    "import tensorflow as tf\n",
    "from keras import backend as K\n",
    "#from tensorflow.keras.optimizers import Adam, SGD, RMSprop\n",
    "from keras.optimizers import adam_v2\n",
    "from keras.layers import Input\n",
    "from keras.models import Model\n",
    "from keras_frcnn import config, data_generators\n",
    "from keras_frcnn import losses as losses\n",
    "import keras_frcnn.roi_helpers as roi_helpers\n",
    "from keras.utils import generic_utils\n",
    "#from keras.callbacks import TensorBoard\n",
    "from tensorflow.compat.v1.keras.callbacks import TensorBoard\n",
    "\n",
    "#from keras_frcnn.pascal_voc_parser import get_data\n",
    "from keras_frcnn.simple_parser import get_data_cluster\n",
    "from keras_frcnn import resnet as nn\n",
    "\n",
    "from matplotlib import pyplot as plt\n",
    "\n",
    "%load_ext autoreload\n",
    "%autoreload 2\n",
    "\n",
    "%matplotlib inline"
   ]
  },
  {
   "cell_type": "code",
   "execution_count": 2,
   "id": "e37bad89",
   "metadata": {},
   "outputs": [
    {
     "name": "stderr",
     "output_type": "stream",
     "text": [
      "2022-08-25 10:06:28.736106: I tensorflow/core/common_runtime/gpu/gpu_device.cc:1525] Created device /job:localhost/replica:0/task:0/device:GPU:0 with 27786 MB memory:  -> device: 0, name: Tesla V100-SXM2-32GB, pci bus id: 0004:04:00.0, compute capability: 7.0\n",
      "2022-08-25 10:06:28.738636: I tensorflow/core/common_runtime/gpu/gpu_device.cc:1525] Created device /job:localhost/replica:0/task:0/device:GPU:1 with 30575 MB memory:  -> device: 1, name: Tesla V100-SXM2-32GB, pci bus id: 0004:05:00.0, compute capability: 7.0\n",
      "2022-08-25 10:06:28.741008: I tensorflow/core/common_runtime/gpu/gpu_device.cc:1525] Created device /job:localhost/replica:0/task:0/device:GPU:2 with 30575 MB memory:  -> device: 2, name: Tesla V100-SXM2-32GB, pci bus id: 0035:03:00.0, compute capability: 7.0\n",
      "2022-08-25 10:06:28.743425: I tensorflow/core/common_runtime/gpu/gpu_device.cc:1525] Created device /job:localhost/replica:0/task:0/device:GPU:3 with 30575 MB memory:  -> device: 3, name: Tesla V100-SXM2-32GB, pci bus id: 0035:04:00.0, compute capability: 7.0\n"
     ]
    }
   ],
   "source": [
    "tf_config = tf.compat.v1.ConfigProto()\n",
    "tf_config.gpu_options.allow_growth = True\n",
    "session = tf.compat.v1.Session(config=tf_config)\n",
    "\n",
    "sys.setrecursionlimit(40000)"
   ]
  },
  {
   "cell_type": "code",
   "execution_count": 18,
   "id": "96f41e3f",
   "metadata": {},
   "outputs": [],
   "source": [
    "#Bunch of stuff that would normally be passed as commandline args\n",
    "\n",
    "C = config.Config()\n",
    "\n",
    "C.use_horizontal_flips = False\n",
    "C.use_vertical_flips = False\n",
    "C.rot_90 = False\n",
    "\n",
    "C.model_path = '/scratch/r/rbond/jorlo/ml-clusters/models/weights/model_frcnn.hdf5'\n",
    "C.num_rois = int(32)\n",
    "\n",
    "C.network = 'resnet50'\n",
    "\n",
    "C.base_net_weights = nn.get_weight_path()"
   ]
  },
  {
   "cell_type": "code",
   "execution_count": 19,
   "id": "543d882a",
   "metadata": {},
   "outputs": [
    {
     "name": "stdout",
     "output_type": "stream",
     "text": [
      "Parsing annotation files\n",
      "Found class name with special name bg. Will be treated as a background region (this is usually for hard negative mining).\n"
     ]
    }
   ],
   "source": [
    "train_path = '/home/r/rbond/jorlo/dev/Keras-FasterRCNN/cluster_data.txt'\n",
    "\n",
    "all_imgs, classes_count, class_mapping = get_data_cluster(train_path)"
   ]
  },
  {
   "cell_type": "code",
   "execution_count": 20,
   "id": "c69541e9",
   "metadata": {},
   "outputs": [],
   "source": [
    "#train_path = '/project/r/rbond/jorlo/datasets/Pascal_VOC/'\n",
    "\n",
    "#all_imgs, classes_count, class_mapping = get_data(train_path)"
   ]
  },
  {
   "cell_type": "code",
   "execution_count": 71,
   "id": "490e3cde",
   "metadata": {},
   "outputs": [
    {
     "name": "stdout",
     "output_type": "stream",
     "text": [
      "Num train samples 1575\n",
      "Num test samples 269\n"
     ]
    }
   ],
   "source": [
    "if 'bg' not in classes_count:\n",
    "    classes_count['bg'] = 0\n",
    "    class_mapping['bg'] = len(class_mapping)\n",
    "\n",
    "C.class_mapping = class_mapping\n",
    "\n",
    "random.shuffle(all_imgs)\n",
    "\n",
    "num_imgs = len(all_imgs)\n",
    "\n",
    "train_imgs = [s for s in all_imgs if s['imageset'] == 'train']\n",
    "test_imgs = [s for s in all_imgs if s['imageset'] == 'val']\n",
    "\n",
    "print('Num train samples {}'.format(len(train_imgs)))\n",
    "print('Num test samples {}'.format(len(test_imgs)))\n",
    "\n",
    "data_gen_train = data_generators.get_anchor_gt_clusters(train_imgs, classes_count, C, nn.get_img_output_length, K.image_data_format(), mode='train')\n",
    "data_gen_test = data_generators.get_anchor_gt_clusters(test_imgs, classes_count, C, nn.get_img_output_length, K.image_data_format(), mode='test')"
   ]
  },
  {
   "cell_type": "code",
   "execution_count": 74,
   "id": "f30aab1d",
   "metadata": {},
   "outputs": [],
   "source": [
    "next(data_gen_train)\n",
    "\n",
    "test = [next(data_gen_train) for _ in range(2)]"
   ]
  },
  {
   "cell_type": "code",
   "execution_count": 84,
   "id": "5738f3a2",
   "metadata": {},
   "outputs": [
    {
     "name": "stdout",
     "output_type": "stream",
     "text": [
      "[[[[0. 0. 0. ... 0. 0. 0.]\n",
      "   [0. 0. 0. ... 0. 0. 0.]\n",
      "   [0. 0. 0. ... 0. 0. 0.]\n",
      "   ...\n",
      "   [0. 0. 0. ... 0. 0. 0.]\n",
      "   [0. 0. 0. ... 0. 0. 0.]\n",
      "   [0. 0. 0. ... 0. 0. 0.]]\n",
      "\n",
      "  [[0. 0. 0. ... 0. 0. 0.]\n",
      "   [0. 0. 0. ... 0. 0. 0.]\n",
      "   [0. 0. 0. ... 0. 0. 0.]\n",
      "   ...\n",
      "   [0. 0. 0. ... 0. 0. 0.]\n",
      "   [0. 0. 0. ... 0. 0. 0.]\n",
      "   [0. 0. 0. ... 0. 0. 0.]]\n",
      "\n",
      "  [[0. 0. 0. ... 0. 0. 0.]\n",
      "   [0. 0. 0. ... 0. 0. 0.]\n",
      "   [0. 0. 0. ... 0. 0. 0.]\n",
      "   ...\n",
      "   [0. 0. 0. ... 0. 0. 0.]\n",
      "   [0. 0. 0. ... 0. 0. 0.]\n",
      "   [0. 0. 0. ... 0. 0. 0.]]\n",
      "\n",
      "  ...\n",
      "\n",
      "  [[0. 0. 0. ... 0. 0. 0.]\n",
      "   [0. 0. 0. ... 0. 0. 0.]\n",
      "   [0. 0. 0. ... 0. 0. 0.]\n",
      "   ...\n",
      "   [0. 0. 0. ... 0. 0. 0.]\n",
      "   [0. 0. 0. ... 0. 0. 0.]\n",
      "   [0. 0. 0. ... 0. 0. 0.]]\n",
      "\n",
      "  [[0. 0. 0. ... 0. 0. 0.]\n",
      "   [0. 0. 0. ... 0. 0. 0.]\n",
      "   [0. 0. 0. ... 0. 0. 0.]\n",
      "   ...\n",
      "   [0. 0. 0. ... 0. 0. 0.]\n",
      "   [0. 0. 0. ... 0. 0. 0.]\n",
      "   [0. 0. 0. ... 0. 0. 0.]]\n",
      "\n",
      "  [[0. 0. 0. ... 0. 0. 0.]\n",
      "   [0. 0. 0. ... 0. 0. 0.]\n",
      "   [0. 0. 0. ... 0. 0. 0.]\n",
      "   ...\n",
      "   [0. 0. 0. ... 0. 0. 0.]\n",
      "   [0. 0. 0. ... 0. 0. 0.]\n",
      "   [0. 0. 0. ... 0. 0. 0.]]]]\n"
     ]
    }
   ],
   "source": [
    "print(test[0][1][0])"
   ]
  },
  {
   "cell_type": "code",
   "execution_count": 86,
   "id": "b2b6c2b4",
   "metadata": {},
   "outputs": [
    {
     "data": {
      "image/png": "[encoded data removed]",
      "text/plain": [
       "<Figure size 432x288 with 1 Axes>"
      ]
     },
     "metadata": {
      "needs_background": "light"
     },
     "output_type": "display_data"
    }
   ],
   "source": [
    "plt.imshow(test[0][1][0][0,...,0])\n",
    "plt.show()"
   ]
  },
  {
   "cell_type": "code",
   "execution_count": 99,
   "id": "1c3d23d7",
   "metadata": {},
   "outputs": [
    {
     "name": "stdout",
     "output_type": "stream",
     "text": [
      "1.0\n",
      "{'filepath': '/project/r/rbond/jorlo/datasets/ml-clusters/indv_images/pos_img_738.hdf5', 'width': 399, 'height': 399, 'bboxes': [{'class': 'cluster', 'x1': 100, 'x2': 300, 'y1': 100, 'y2': 300}], 'imageset': 'train'}\n",
      "0.0\n",
      "{'filepath': '/project/r/rbond/jorlo/datasets/ml-clusters/indv_images/neg_img_367.hdf5', 'width': 399, 'height': 399, 'bboxes': [{'class': 'bg', 'x1': 100, 'x2': 300, 'y1': 100, 'y2': 300}], 'imageset': 'train'}\n"
     ]
    }
   ],
   "source": [
    "print(np.amax(test[0][1][0]))\n",
    "print(test[0][2])\n",
    "\n",
    "print(np.amax(test[1][1][0]))\n",
    "print(test[1][2])"
   ]
  },
  {
   "cell_type": "code",
   "execution_count": 46,
   "id": "e28d8e55",
   "metadata": {},
   "outputs": [
    {
     "data": {
      "text/plain": [
       "array([[[[-84.939   , -95.779   , -77.68    ],\n",
       "         [-84.939   , -95.779   , -77.68    ],\n",
       "         [-84.939   , -95.779   , -77.68    ],\n",
       "         ...,\n",
       "         [ -3.939003, -45.779   , -82.68    ],\n",
       "         [ -4.939003, -45.779   , -83.68    ],\n",
       "         [ -4.939003, -46.779   , -83.68    ]],\n",
       "\n",
       "        [[-84.939   , -95.779   , -77.68    ],\n",
       "         [-84.939   , -95.779   , -77.68    ],\n",
       "         [-84.939   , -95.779   , -77.68    ],\n",
       "         ...,\n",
       "         [ -4.939003, -46.779   , -82.68    ],\n",
       "         [ -4.939003, -47.779   , -83.68    ],\n",
       "         [ -5.939003, -47.779   , -83.68    ]],\n",
       "\n",
       "        [[-85.939   , -96.779   , -78.68    ],\n",
       "         [-85.939   , -96.779   , -78.68    ],\n",
       "         [-84.939   , -95.779   , -77.68    ],\n",
       "         ...,\n",
       "         [ -5.939003, -48.779   , -83.68    ],\n",
       "         [ -5.939003, -48.779   , -84.68    ],\n",
       "         [ -6.939003, -49.779   , -84.68    ]],\n",
       "\n",
       "        ...,\n",
       "\n",
       "        [[-34.939003, -66.779   , -69.68    ],\n",
       "         [-34.939003, -66.779   , -68.68    ],\n",
       "         [-33.939003, -65.779   , -67.68    ],\n",
       "         ...,\n",
       "         [-10.939003, -53.779   , -60.68    ],\n",
       "         [-10.939003, -53.779   , -60.68    ],\n",
       "         [-10.939003, -53.779   , -60.68    ]],\n",
       "\n",
       "        [[-35.939003, -67.779   , -68.68    ],\n",
       "         [-35.939003, -67.779   , -68.68    ],\n",
       "         [-35.939003, -67.779   , -68.68    ],\n",
       "         ...,\n",
       "         [-10.939003, -53.779   , -60.68    ],\n",
       "         [-10.939003, -53.779   , -60.68    ],\n",
       "         [-10.939003, -53.779   , -60.68    ]],\n",
       "\n",
       "        [[-35.939003, -67.779   , -68.68    ],\n",
       "         [-35.939003, -67.779   , -68.68    ],\n",
       "         [-35.939003, -67.779   , -68.68    ],\n",
       "         ...,\n",
       "         [-10.939003, -53.779   , -60.68    ],\n",
       "         [-10.939003, -53.779   , -60.68    ],\n",
       "         [-10.939003, -53.779   , -60.68    ]]]], dtype=float32)"
      ]
     },
     "execution_count": 46,
     "metadata": {},
     "output_type": "execute_result"
    }
   ],
   "source": [
    "next(data_gen_train)[0]"
   ]
  },
  {
   "cell_type": "code",
   "execution_count": null,
   "id": "29d10fb9",
   "metadata": {},
   "outputs": [],
   "source": []
  }
 ],
 "metadata": {
  "kernelspec": {
   "display_name": "ml-clusters",
   "language": "python",
   "name": "ml-clusters"
  },
  "language_info": {
   "codemirror_mode": {
    "name": "ipython",
    "version": 3
   },
   "file_extension": ".py",
   "mimetype": "text/x-python",
   "name": "python",
   "nbconvert_exporter": "python",
   "pygments_lexer": "ipython3",
   "version": "3.8.13"
  }
 },
 "nbformat": 4,
 "nbformat_minor": 5
}
