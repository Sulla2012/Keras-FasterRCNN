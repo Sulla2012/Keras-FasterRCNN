{
 "cells": [
  {
   "cell_type": "code",
   "execution_count": 2,
   "id": "f3998946",
   "metadata": {},
   "outputs": [
    {
     "name": "stderr",
     "output_type": "stream",
     "text": [
      "2022-08-25 11:23:35.507684: I tensorflow/core/common_runtime/gpu/gpu_device.cc:1525] Created device /job:localhost/replica:0/task:0/device:GPU:0 with 30130 MB memory:  -> device: 0, name: Tesla V100-SXM2-32GB, pci bus id: 0004:04:00.0, compute capability: 7.0\n",
      "2022-08-25 11:23:35.509887: I tensorflow/core/common_runtime/gpu/gpu_device.cc:1525] Created device /job:localhost/replica:0/task:0/device:GPU:1 with 30134 MB memory:  -> device: 1, name: Tesla V100-SXM2-32GB, pci bus id: 0004:05:00.0, compute capability: 7.0\n",
      "2022-08-25 11:23:35.512068: I tensorflow/core/common_runtime/gpu/gpu_device.cc:1525] Created device /job:localhost/replica:0/task:0/device:GPU:2 with 30134 MB memory:  -> device: 2, name: Tesla V100-SXM2-32GB, pci bus id: 0035:03:00.0, compute capability: 7.0\n",
      "2022-08-25 11:23:35.514294: I tensorflow/core/common_runtime/gpu/gpu_device.cc:1525] Created device /job:localhost/replica:0/task:0/device:GPU:3 with 30134 MB memory:  -> device: 3, name: Tesla V100-SXM2-32GB, pci bus id: 0035:04:00.0, compute capability: 7.0\n"
     ]
    }
   ],
   "source": [
    "import pickle as pk\n",
    "import tensorflow as tf\n",
    "import numpy as np\n",
    "import tensorflow as tf\n",
    "from tensorflow.keras import regularizers\n",
    "\n",
    "config = tf.compat.v1.ConfigProto()\n",
    "config.gpu_options.allow_growth = True\n",
    "session = tf.compat.v1.Session(config=config)\n",
    "\n",
    "import os, sys, pathlib, h5py, time\n",
    "\n",
    "from astropy.nddata import block_reduce\n",
    "\n",
    "from matplotlib import pyplot as plt\n",
    "\n",
    "%load_ext autoreload\n",
    "%autoreload 2\n",
    "\n",
    "%matplotlib inline"
   ]
  },
  {
   "cell_type": "code",
   "execution_count": 3,
   "id": "5a4ace19",
   "metadata": {},
   "outputs": [],
   "source": [
    "data_dir = '/project/r/rbond/jorlo/datasets/ml-clusters/for-debug/'\n",
    "\n",
    "w_y = 'True'\n",
    "\n",
    "cut = 1000"
   ]
  },
  {
   "cell_type": "code",
   "execution_count": 4,
   "id": "02ec85b0",
   "metadata": {},
   "outputs": [
    {
     "name": "stdout",
     "output_type": "stream",
     "text": [
      "random_2000_w_y.h5\n",
      "des_5000_w_y.h5\n",
      "des_2000_w_y.h5\n",
      "random_0000_w_y.h5\n",
      "des_0000_w_y.h5\n",
      "des_1000_w_y.h5\n",
      "random_6000_w_y.h5\n",
      "random_7000_w_y.h5\n",
      "random_5000_w_y.h5\n",
      "des_6000_w_y.h5\n",
      "act_1000_w_y.h5\n",
      "random_4000_w_y.h5\n",
      "random_3000_w_y.h5\n",
      "act_3000_w_y.h5\n",
      "des_4000_w_y.h5\n",
      "random_1000_w_y.h5\n",
      "act_0000_w_y.h5\n",
      "des_3000_w_y.h5\n",
      "922 922\n"
     ]
    }
   ],
   "source": [
    "pos_im_act = []\n",
    "pos_im_des = []\n",
    "neg_im = []\n",
    "\n",
    "for directory in os.listdir(data_dir):\n",
    "    print(directory)\n",
    "    if directory[:3] == 'act' and (int(directory[4:8]) < cut):\n",
    "        h5f = h5py.File(data_dir+directory)\n",
    "        pos_im_act.append(h5f['act'][:])\n",
    "    elif directory[:3] == 'des' and (int(directory[4:8]) < cut):\n",
    "        h5f = h5py.File(data_dir+directory)\n",
    "        pos_im_des.append(h5f['des'][:])\n",
    "    elif directory[:6]=='random' and (int(directory[7:11]) < cut):\n",
    "        h5f = h5py.File(data_dir+directory)\n",
    "        neg_im.append(h5f['random'][:])\n",
    "\n",
    "\n",
    "pos_im_act = np.vstack(pos_im_act)\n",
    "pos_im_des = np.vstack(pos_im_des)\n",
    "neg_im = np.vstack(neg_im)\n",
    "\n",
    "\n",
    "pos_im = np.concatenate((pos_im_act, pos_im_des))\n",
    "\n",
    "\n",
    "flags = []\n",
    "for i in range(pos_im.shape[0]):\n",
    "        if np.any(np.isnan(pos_im[i,...])):\n",
    "                flags.append(i)\n",
    "\n",
    "pos_im = np.delete(pos_im, flags, axis = 0)\n",
    "\n",
    "flags = []\n",
    "for i in range(neg_im.shape[0]):\n",
    "        if np.any(np.isnan(neg_im[i,...])):\n",
    "                flags.append(i)\n",
    "\n",
    "neg_im = np.delete(neg_im, flags, axis = 0)\n",
    "\n",
    "\n",
    "neg_im = neg_im[:len(pos_im)]\n",
    "pos_im = pos_im[:len(neg_im)]\n",
    "\n",
    "print(len(pos_im), len(neg_im))\n"
   ]
  },
  {
   "cell_type": "code",
   "execution_count": 13,
   "id": "be0d66e9",
   "metadata": {},
   "outputs": [],
   "source": [
    "save_dir = '/project/r/rbond/jorlo/datasets/ml-clusters/indv_images/'\n",
    "with open('/home/r/rbond/jorlo/dev/Keras-FasterRCNN/cluster_data.txt', 'w') as text_f: \n",
    "    for i in range(len(pos_im)):\n",
    "        with h5py.File(save_dir + \"pos_img_{}.hdf5\".format(i), \"w\") as f:\n",
    "            text_f.write('{},100,100,300,300,cluster\\n'.format(save_dir + \"pos_img_{}.hdf5\".format(i)))\n",
    "            f['data'] = pos_im[i]\n",
    "    \n",
    "    for i in range(len(neg_im)):\n",
    "        with h5py.File(save_dir + \"neg_img_{}.hdf5\".format(i), \"w\") as f:\n",
    "            text_f.write('{},100,100,300,300,bg\\n'.format(save_dir + \"neg_img_{}.hdf5\".format(i)))\n",
    "            f['data'] = neg_im[i]"
   ]
  },
  {
   "cell_type": "code",
   "execution_count": null,
   "id": "c458e5a6",
   "metadata": {},
   "outputs": [],
   "source": []
  }
 ],
 "metadata": {
  "kernelspec": {
   "display_name": "ml-clusters",
   "language": "python",
   "name": "ml-clusters"
  },
  "language_info": {
   "codemirror_mode": {
    "name": "ipython",
    "version": 3
   },
   "file_extension": ".py",
   "mimetype": "text/x-python",
   "name": "python",
   "nbconvert_exporter": "python",
   "pygments_lexer": "ipython3",
   "version": "3.8.13"
  }
 },
 "nbformat": 4,
 "nbformat_minor": 5
}
